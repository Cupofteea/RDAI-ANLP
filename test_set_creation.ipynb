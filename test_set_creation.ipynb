{
 "cells": [
  {
   "attachments": {},
   "cell_type": "markdown",
   "metadata": {},
   "source": [
    "### Creating test set"
   ]
  },
  {
   "cell_type": "code",
   "execution_count": 3,
   "metadata": {},
   "outputs": [],
   "source": [
    "import os\n",
    "import re\n",
    "import pandas as pd\n",
    "from sklearn.preprocessing import MultiLabelBinarizer\n",
    "import spacy\n",
    "from sklearn.metrics import multilabel_confusion_matrix\n",
    "from sklearn.metrics import classification_report\n",
    "from sklearn.metrics import f1_score"
   ]
  },
  {
   "attachments": {},
   "cell_type": "markdown",
   "metadata": {},
   "source": [
    "### Merging Test Set Files "
   ]
  },
  {
   "cell_type": "code",
   "execution_count": 12,
   "metadata": {},
   "outputs": [
    {
     "data": {
      "text/html": [
       "<div>\n",
       "<style scoped>\n",
       "    .dataframe tbody tr th:only-of-type {\n",
       "        vertical-align: middle;\n",
       "    }\n",
       "\n",
       "    .dataframe tbody tr th {\n",
       "        vertical-align: top;\n",
       "    }\n",
       "\n",
       "    .dataframe thead th {\n",
       "        text-align: right;\n",
       "    }\n",
       "</style>\n",
       "<table border=\"1\" class=\"dataframe\">\n",
       "  <thead>\n",
       "    <tr style=\"text-align: right;\">\n",
       "      <th></th>\n",
       "      <th>text</th>\n",
       "      <th>accept</th>\n",
       "    </tr>\n",
       "  </thead>\n",
       "  <tbody>\n",
       "    <tr>\n",
       "      <th>0</th>\n",
       "      <td>x2000 Steam Accounts with Games #4  \\n\\nThis l...</td>\n",
       "      <td>[DATA LEAKS, CREDENTIALS OR ACCOUNTS, OFFERING...</td>\n",
       "    </tr>\n",
       "    <tr>\n",
       "      <th>1</th>\n",
       "      <td>332K Combolist EDU OFFICE 332K Combolist EDU O...</td>\n",
       "      <td>[DATA LEAKS, COMPANY OR ORG INFORMATION, OFFER...</td>\n",
       "    </tr>\n",
       "    <tr>\n",
       "      <th>2</th>\n",
       "      <td>Mycanal ACCOUNTS PREMIUM diariatouaidara1999@g...</td>\n",
       "      <td>[CREDENTIALS OR ACCOUNTS, DATA LEAKS, OFFERING...</td>\n",
       "    </tr>\n",
       "    <tr>\n",
       "      <th>4</th>\n",
       "      <td>Connecting to shoutbox Anyone have solution to...</td>\n",
       "      <td>[ADVICE]</td>\n",
       "    </tr>\n",
       "    <tr>\n",
       "      <th>5</th>\n",
       "      <td>BWW - Free Food - Accounts with Over 1000 Pts ...</td>\n",
       "      <td>[OFFERING OF SERVICE OR PRODUCT, CREDENTIALS O...</td>\n",
       "    </tr>\n",
       "    <tr>\n",
       "      <th>...</th>\n",
       "      <td>...</td>\n",
       "      <td>...</td>\n",
       "    </tr>\n",
       "    <tr>\n",
       "      <th>101</th>\n",
       "      <td>Looking for stealer Hello please what’s the la...</td>\n",
       "      <td>[REQUEST FOR SERVICE OR PRODUCT, ADVICE, MALWA...</td>\n",
       "    </tr>\n",
       "    <tr>\n",
       "      <th>102</th>\n",
       "      <td>Android vulnerability to install a silent payl...</td>\n",
       "      <td>[VULNERABILITY, MALWARE TOOLS AND EXPLOITS, AD...</td>\n",
       "    </tr>\n",
       "    <tr>\n",
       "      <th>103</th>\n",
       "      <td>Email/Phone leads - USA banks I have variously...</td>\n",
       "      <td>[OFFERING OF SERVICE OR PRODUCT, MONEY INVOLVE...</td>\n",
       "    </tr>\n",
       "    <tr>\n",
       "      <th>104</th>\n",
       "      <td>110K Malaysian Online Casino Customers [ Depos...</td>\n",
       "      <td>[OFFERING OF SERVICE OR PRODUCT, DATA LEAKS, P...</td>\n",
       "    </tr>\n",
       "    <tr>\n",
       "      <th>105</th>\n",
       "      <td>PLEASE DELETE</td>\n",
       "      <td>[DEFACEMENT, GOOD REVIEW, SCAM PAGE]</td>\n",
       "    </tr>\n",
       "  </tbody>\n",
       "</table>\n",
       "<p>252 rows × 2 columns</p>\n",
       "</div>"
      ],
      "text/plain": [
       "                                                  text  \\\n",
       "0    x2000 Steam Accounts with Games #4  \\n\\nThis l...   \n",
       "1    332K Combolist EDU OFFICE 332K Combolist EDU O...   \n",
       "2    Mycanal ACCOUNTS PREMIUM diariatouaidara1999@g...   \n",
       "4    Connecting to shoutbox Anyone have solution to...   \n",
       "5    BWW - Free Food - Accounts with Over 1000 Pts ...   \n",
       "..                                                 ...   \n",
       "101  Looking for stealer Hello please what’s the la...   \n",
       "102  Android vulnerability to install a silent payl...   \n",
       "103  Email/Phone leads - USA banks I have variously...   \n",
       "104  110K Malaysian Online Casino Customers [ Depos...   \n",
       "105                                      PLEASE DELETE   \n",
       "\n",
       "                                                accept  \n",
       "0    [DATA LEAKS, CREDENTIALS OR ACCOUNTS, OFFERING...  \n",
       "1    [DATA LEAKS, COMPANY OR ORG INFORMATION, OFFER...  \n",
       "2    [CREDENTIALS OR ACCOUNTS, DATA LEAKS, OFFERING...  \n",
       "4                                             [ADVICE]  \n",
       "5    [OFFERING OF SERVICE OR PRODUCT, CREDENTIALS O...  \n",
       "..                                                 ...  \n",
       "101  [REQUEST FOR SERVICE OR PRODUCT, ADVICE, MALWA...  \n",
       "102  [VULNERABILITY, MALWARE TOOLS AND EXPLOITS, AD...  \n",
       "103  [OFFERING OF SERVICE OR PRODUCT, MONEY INVOLVE...  \n",
       "104  [OFFERING OF SERVICE OR PRODUCT, DATA LEAKS, P...  \n",
       "105               [DEFACEMENT, GOOD REVIEW, SCAM PAGE]  \n",
       "\n",
       "[252 rows x 2 columns]"
      ]
     },
     "execution_count": 12,
     "metadata": {},
     "output_type": "execute_result"
    }
   ],
   "source": [
    "#Input relevant files to create test set\n",
    "file1 = \"forum_nulled_20230123_20230207_61_annotations_(test_set).jsonl\"\n",
    "file2 = \"forum_breached_20230123_20230207_102_annotations_(test_set).jsonl\"\n",
    "file3 = \"forum_xss_20230123_20230207_105_annotations_(test_set).jsonl\"\n",
    "\n",
    "files = [file1,file2,file3]\n",
    "\n",
    "def merge_jsonl_files(files):\n",
    "    curr_path = os.getcwd()\n",
    "    df_list = []\n",
    "\n",
    "    for file in files:\n",
    "        file_path = os.path.join(curr_path,\"prodigy\",\"annotation_output\", file)\n",
    "        df = pd.read_json(file_path,lines= True)\n",
    "        df_list.append(df)\n",
    "\n",
    "    merged_df = pd.concat(df_list)\n",
    "\n",
    "    return merged_df\n",
    "\n",
    "def url_remover(text):\n",
    "    remove = \"http\\S+\"\n",
    "    text = re.sub(remove, \" \", text)\n",
    "    return text\n",
    "\n",
    "df_dummy = merge_jsonl_files(files)\n",
    "df_dummy_dummy = df_dummy[df_dummy.answer == \"accept\"]\n",
    "df = df_dummy_dummy.drop(columns=[\"_input_hash\",\"_session_id\",\"_task_hash\",\"_view_id\",\"options\",\"config\", \"answer\"])\n",
    "df[\"text\"] = df[\"text\"].apply(url_remover)\n",
    "\n",
    "del df[\"meta\"]\n",
    "df"
   ]
  },
  {
   "cell_type": "code",
   "execution_count": 13,
   "metadata": {},
   "outputs": [
    {
     "data": {
      "text/plain": [
       "['REQUEST FOR SERVICE OR PRODUCT',\n",
       " 'OFFERING OF SERVICE OR PRODUCT',\n",
       " 'MONEY INVOLVED',\n",
       " 'ADVICE',\n",
       " 'NETWORK OR PANEL ACCESS',\n",
       " 'CREDENTIALS OR ACCOUNTS',\n",
       " 'CARDING',\n",
       " 'INFRASTRUCTURE AND HOSTING',\n",
       " 'DATA LEAKS',\n",
       " 'PERSONAL INFORMATION',\n",
       " 'COMPANY OR ORG INFORMATION',\n",
       " 'ADULT',\n",
       " 'MALWARE TOOLS AND EXPLOITS',\n",
       " 'VULNERABILITY',\n",
       " 'RECRUITMENT',\n",
       " 'DEFACEMENT',\n",
       " 'PHISHING',\n",
       " 'SPAMMING',\n",
       " 'HACKING',\n",
       " 'SCAM PAGE',\n",
       " 'LOGS',\n",
       " 'SMS OR EMAIL MAILER',\n",
       " 'GOOD REVIEW',\n",
       " 'BAD REVIEW']"
      ]
     },
     "execution_count": 13,
     "metadata": {},
     "output_type": "execute_result"
    }
   ],
   "source": [
    "cwd = os.getcwd()\n",
    "label_path = os.path.join(cwd,\"labels.txt\")\n",
    "label_data = open(label_path,\"r\").read()\n",
    "labels = label_data.split(\"\\n\")\n",
    "mlb = MultiLabelBinarizer(classes=labels)\n",
    "mlb.classes"
   ]
  },
  {
   "cell_type": "code",
   "execution_count": 14,
   "metadata": {},
   "outputs": [],
   "source": [
    "# Because the output of labels are a probability distribution, need to decide a threshold to accept it as a label\n",
    "def standardize_tags(doc, threshold):\n",
    "    tags = doc.cats\n",
    "    for k in tags:\n",
    "        if tags[k] >= threshold:\n",
    "            tags[k] = 1\n",
    "        else:\n",
    "            tags[k] = 0\n",
    "    return tags\n",
    "\n",
    "# Using model to predict each text.\n",
    "def nlp_predict(text, nlp, threshold):\n",
    "    doc = nlp(text)\n",
    "    tags = standardize_tags(doc, threshold)\n",
    "    tags_list = []\n",
    "    for k,v in tags.items():\n",
    "        if v == 1:\n",
    "            tags_list.append(k)\n",
    "    return tags_list"
   ]
  },
  {
   "attachments": {},
   "cell_type": "markdown",
   "metadata": {},
   "source": [
    "### Model Last"
   ]
  },
  {
   "cell_type": "code",
   "execution_count": 15,
   "metadata": {},
   "outputs": [
    {
     "name": "stderr",
     "output_type": "stream",
     "text": [
      "Token indices sequence length is longer than the specified maximum sequence length for this model (720 > 512). Running this sequence through the model will result in indexing errors\n"
     ]
    }
   ],
   "source": [
    "nlp = spacy.load(\"models/v4/model-last\")\n",
    "df[\"predicted_output\"] = df[\"text\"].apply(lambda text: nlp_predict(text, nlp,0.8))"
   ]
  },
  {
   "cell_type": "code",
   "execution_count": 27,
   "metadata": {},
   "outputs": [
    {
     "data": {
      "text/html": [
       "<div>\n",
       "<style scoped>\n",
       "    .dataframe tbody tr th:only-of-type {\n",
       "        vertical-align: middle;\n",
       "    }\n",
       "\n",
       "    .dataframe tbody tr th {\n",
       "        vertical-align: top;\n",
       "    }\n",
       "\n",
       "    .dataframe thead th {\n",
       "        text-align: right;\n",
       "    }\n",
       "</style>\n",
       "<table border=\"1\" class=\"dataframe\">\n",
       "  <thead>\n",
       "    <tr style=\"text-align: right;\">\n",
       "      <th></th>\n",
       "      <th>text</th>\n",
       "      <th>accept</th>\n",
       "      <th>predicted_output</th>\n",
       "    </tr>\n",
       "  </thead>\n",
       "  <tbody>\n",
       "    <tr>\n",
       "      <th>0</th>\n",
       "      <td>x2000 Steam Accounts with Games #4  \\n\\nThis l...</td>\n",
       "      <td>[DATA LEAKS, CREDENTIALS OR ACCOUNTS, OFFERING...</td>\n",
       "      <td>[CREDENTIALS OR ACCOUNTS, DATA LEAKS]</td>\n",
       "    </tr>\n",
       "    <tr>\n",
       "      <th>1</th>\n",
       "      <td>332K Combolist EDU OFFICE 332K Combolist EDU O...</td>\n",
       "      <td>[DATA LEAKS, COMPANY OR ORG INFORMATION, OFFER...</td>\n",
       "      <td>[OFFERING OF SERVICE OR PRODUCT, CREDENTIALS O...</td>\n",
       "    </tr>\n",
       "    <tr>\n",
       "      <th>2</th>\n",
       "      <td>Mycanal ACCOUNTS PREMIUM diariatouaidara1999@g...</td>\n",
       "      <td>[CREDENTIALS OR ACCOUNTS, DATA LEAKS, OFFERING...</td>\n",
       "      <td>[CREDENTIALS OR ACCOUNTS, DATA LEAKS]</td>\n",
       "    </tr>\n",
       "    <tr>\n",
       "      <th>4</th>\n",
       "      <td>Connecting to shoutbox Anyone have solution to...</td>\n",
       "      <td>[ADVICE]</td>\n",
       "      <td>[ADVICE]</td>\n",
       "    </tr>\n",
       "    <tr>\n",
       "      <th>5</th>\n",
       "      <td>BWW - Free Food - Accounts with Over 1000 Pts ...</td>\n",
       "      <td>[OFFERING OF SERVICE OR PRODUCT, CREDENTIALS O...</td>\n",
       "      <td>[CREDENTIALS OR ACCOUNTS, DATA LEAKS]</td>\n",
       "    </tr>\n",
       "    <tr>\n",
       "      <th>...</th>\n",
       "      <td>...</td>\n",
       "      <td>...</td>\n",
       "      <td>...</td>\n",
       "    </tr>\n",
       "    <tr>\n",
       "      <th>101</th>\n",
       "      <td>Looking for stealer Hello please what’s the la...</td>\n",
       "      <td>[REQUEST FOR SERVICE OR PRODUCT, ADVICE, MALWA...</td>\n",
       "      <td>[REQUEST FOR SERVICE OR PRODUCT, ADVICE, MALWA...</td>\n",
       "    </tr>\n",
       "    <tr>\n",
       "      <th>102</th>\n",
       "      <td>Android vulnerability to install a silent payl...</td>\n",
       "      <td>[VULNERABILITY, MALWARE TOOLS AND EXPLOITS, AD...</td>\n",
       "      <td>[OFFERING OF SERVICE OR PRODUCT]</td>\n",
       "    </tr>\n",
       "    <tr>\n",
       "      <th>103</th>\n",
       "      <td>Email/Phone leads - USA banks I have variously...</td>\n",
       "      <td>[OFFERING OF SERVICE OR PRODUCT, MONEY INVOLVE...</td>\n",
       "      <td>[DATA LEAKS, PERSONAL INFORMATION]</td>\n",
       "    </tr>\n",
       "    <tr>\n",
       "      <th>104</th>\n",
       "      <td>110K Malaysian Online Casino Customers [ Depos...</td>\n",
       "      <td>[OFFERING OF SERVICE OR PRODUCT, DATA LEAKS, P...</td>\n",
       "      <td>[OFFERING OF SERVICE OR PRODUCT, CREDENTIALS O...</td>\n",
       "    </tr>\n",
       "    <tr>\n",
       "      <th>105</th>\n",
       "      <td>PLEASE DELETE</td>\n",
       "      <td>[DEFACEMENT, GOOD REVIEW, SCAM PAGE]</td>\n",
       "      <td>[]</td>\n",
       "    </tr>\n",
       "  </tbody>\n",
       "</table>\n",
       "<p>252 rows × 3 columns</p>\n",
       "</div>"
      ],
      "text/plain": [
       "                                                  text  \\\n",
       "0    x2000 Steam Accounts with Games #4  \\n\\nThis l...   \n",
       "1    332K Combolist EDU OFFICE 332K Combolist EDU O...   \n",
       "2    Mycanal ACCOUNTS PREMIUM diariatouaidara1999@g...   \n",
       "4    Connecting to shoutbox Anyone have solution to...   \n",
       "5    BWW - Free Food - Accounts with Over 1000 Pts ...   \n",
       "..                                                 ...   \n",
       "101  Looking for stealer Hello please what’s the la...   \n",
       "102  Android vulnerability to install a silent payl...   \n",
       "103  Email/Phone leads - USA banks I have variously...   \n",
       "104  110K Malaysian Online Casino Customers [ Depos...   \n",
       "105                                      PLEASE DELETE   \n",
       "\n",
       "                                                accept  \\\n",
       "0    [DATA LEAKS, CREDENTIALS OR ACCOUNTS, OFFERING...   \n",
       "1    [DATA LEAKS, COMPANY OR ORG INFORMATION, OFFER...   \n",
       "2    [CREDENTIALS OR ACCOUNTS, DATA LEAKS, OFFERING...   \n",
       "4                                             [ADVICE]   \n",
       "5    [OFFERING OF SERVICE OR PRODUCT, CREDENTIALS O...   \n",
       "..                                                 ...   \n",
       "101  [REQUEST FOR SERVICE OR PRODUCT, ADVICE, MALWA...   \n",
       "102  [VULNERABILITY, MALWARE TOOLS AND EXPLOITS, AD...   \n",
       "103  [OFFERING OF SERVICE OR PRODUCT, MONEY INVOLVE...   \n",
       "104  [OFFERING OF SERVICE OR PRODUCT, DATA LEAKS, P...   \n",
       "105               [DEFACEMENT, GOOD REVIEW, SCAM PAGE]   \n",
       "\n",
       "                                      predicted_output  \n",
       "0                [CREDENTIALS OR ACCOUNTS, DATA LEAKS]  \n",
       "1    [OFFERING OF SERVICE OR PRODUCT, CREDENTIALS O...  \n",
       "2                [CREDENTIALS OR ACCOUNTS, DATA LEAKS]  \n",
       "4                                             [ADVICE]  \n",
       "5                [CREDENTIALS OR ACCOUNTS, DATA LEAKS]  \n",
       "..                                                 ...  \n",
       "101  [REQUEST FOR SERVICE OR PRODUCT, ADVICE, MALWA...  \n",
       "102                   [OFFERING OF SERVICE OR PRODUCT]  \n",
       "103                 [DATA LEAKS, PERSONAL INFORMATION]  \n",
       "104  [OFFERING OF SERVICE OR PRODUCT, CREDENTIALS O...  \n",
       "105                                                 []  \n",
       "\n",
       "[252 rows x 3 columns]"
      ]
     },
     "execution_count": 27,
     "metadata": {},
     "output_type": "execute_result"
    }
   ],
   "source": [
    "df"
   ]
  },
  {
   "cell_type": "code",
   "execution_count": 17,
   "metadata": {},
   "outputs": [
    {
     "data": {
      "text/plain": [
       "True"
      ]
     },
     "execution_count": 17,
     "metadata": {},
     "output_type": "execute_result"
    }
   ],
   "source": [
    "y_pred_set = mlb.fit_transform(df[\"predicted_output\"])\n",
    "y_test_set = mlb.fit_transform(df[\"accept\"])\n",
    "\n",
    "y_pred_set.shape == y_test_set.shape\n"
   ]
  },
  {
   "cell_type": "code",
   "execution_count": 18,
   "metadata": {},
   "outputs": [
    {
     "name": "stderr",
     "output_type": "stream",
     "text": [
      "C:\\Users\\User1\\AppData\\Local\\Packages\\PythonSoftwareFoundation.Python.3.10_qbz5n2kfra8p0\\LocalCache\\local-packages\\Python310\\site-packages\\sklearn\\metrics\\_classification.py:1344: UndefinedMetricWarning: Precision and F-score are ill-defined and being set to 0.0 in labels with no predicted samples. Use `zero_division` parameter to control this behavior.\n",
      "  _warn_prf(average, modifier, msg_start, len(result))\n",
      "C:\\Users\\User1\\AppData\\Local\\Packages\\PythonSoftwareFoundation.Python.3.10_qbz5n2kfra8p0\\LocalCache\\local-packages\\Python310\\site-packages\\sklearn\\metrics\\_classification.py:1344: UndefinedMetricWarning: Precision and F-score are ill-defined and being set to 0.0 in samples with no predicted labels. Use `zero_division` parameter to control this behavior.\n",
      "  _warn_prf(average, modifier, msg_start, len(result))\n",
      "C:\\Users\\User1\\AppData\\Local\\Packages\\PythonSoftwareFoundation.Python.3.10_qbz5n2kfra8p0\\LocalCache\\local-packages\\Python310\\site-packages\\sklearn\\metrics\\_classification.py:1344: UndefinedMetricWarning: Recall and F-score are ill-defined and being set to 0.0 in samples with no true labels. Use `zero_division` parameter to control this behavior.\n",
      "  _warn_prf(average, modifier, msg_start, len(result))\n"
     ]
    }
   ],
   "source": [
    "\n",
    "confusion_matrix_= multilabel_confusion_matrix(y_test_set, y_pred_set)\n",
    "cls_report = classification_report(y_test_set, y_pred_set)\n",
    "f1 = f1_score(y_test_set, y_pred_set, average = \"micro\")"
   ]
  },
  {
   "cell_type": "code",
   "execution_count": 19,
   "metadata": {},
   "outputs": [
    {
     "name": "stdout",
     "output_type": "stream",
     "text": [
      "              precision    recall  f1-score   support\n",
      "\n",
      "           0       0.77      0.90      0.83        40\n",
      "           1       0.82      0.70      0.76        93\n",
      "           2       0.86      0.92      0.89        91\n",
      "           3       0.90      0.76      0.82        71\n",
      "           4       0.89      0.47      0.62        17\n",
      "           5       0.72      0.67      0.70        46\n",
      "           6       0.75      0.50      0.60         6\n",
      "           7       0.00      0.00      0.00         2\n",
      "           8       0.85      0.70      0.77        83\n",
      "           9       0.87      0.74      0.80        27\n",
      "          10       0.31      0.16      0.21        31\n",
      "          11       0.67      0.40      0.50         5\n",
      "          12       0.93      0.53      0.67        51\n",
      "          13       1.00      0.33      0.50         6\n",
      "          14       0.50      0.67      0.57         9\n",
      "          15       0.00      0.00      0.00         1\n",
      "          16       0.67      0.67      0.67         3\n",
      "          17       0.75      0.75      0.75         4\n",
      "          18       1.00      0.33      0.50        12\n",
      "          19       0.00      0.00      0.00         1\n",
      "          20       1.00      0.25      0.40        16\n",
      "          21       0.86      0.75      0.80         8\n",
      "          22       0.00      0.00      0.00         1\n",
      "          23       1.00      0.75      0.86         4\n",
      "\n",
      "   micro avg       0.82      0.67      0.74       628\n",
      "   macro avg       0.67      0.50      0.55       628\n",
      "weighted avg       0.81      0.67      0.72       628\n",
      " samples avg       0.71      0.62      0.64       628\n",
      "\n"
     ]
    }
   ],
   "source": [
    "print(cls_report)"
   ]
  },
  {
   "cell_type": "code",
   "execution_count": 20,
   "metadata": {},
   "outputs": [
    {
     "name": "stdout",
     "output_type": "stream",
     "text": [
      "0.7382198952879581\n"
     ]
    }
   ],
   "source": [
    "print(f1)"
   ]
  },
  {
   "attachments": {},
   "cell_type": "markdown",
   "metadata": {},
   "source": [
    "### Model Best"
   ]
  },
  {
   "cell_type": "code",
   "execution_count": 26,
   "metadata": {},
   "outputs": [
    {
     "name": "stderr",
     "output_type": "stream",
     "text": [
      "Token indices sequence length is longer than the specified maximum sequence length for this model (720 > 512). Running this sequence through the model will result in indexing errors\n"
     ]
    }
   ],
   "source": [
    "nlp = spacy.load(\"models/v4/model-best\")\n",
    "df[\"predicted_output\"] = df[\"text\"].apply(lambda text: nlp_predict(text, nlp,0.8))"
   ]
  },
  {
   "cell_type": "code",
   "execution_count": 28,
   "metadata": {},
   "outputs": [
    {
     "data": {
      "text/plain": [
       "True"
      ]
     },
     "execution_count": 28,
     "metadata": {},
     "output_type": "execute_result"
    }
   ],
   "source": [
    "y_pred_set = mlb.fit_transform(df[\"predicted_output\"])\n",
    "y_test_set = mlb.fit_transform(df[\"accept\"])\n",
    "\n",
    "y_pred_set.shape == y_test_set.shape"
   ]
  },
  {
   "cell_type": "code",
   "execution_count": 29,
   "metadata": {},
   "outputs": [
    {
     "name": "stderr",
     "output_type": "stream",
     "text": [
      "C:\\Users\\User1\\AppData\\Local\\Packages\\PythonSoftwareFoundation.Python.3.10_qbz5n2kfra8p0\\LocalCache\\local-packages\\Python310\\site-packages\\sklearn\\metrics\\_classification.py:1344: UndefinedMetricWarning: Precision and F-score are ill-defined and being set to 0.0 in labels with no predicted samples. Use `zero_division` parameter to control this behavior.\n",
      "  _warn_prf(average, modifier, msg_start, len(result))\n",
      "C:\\Users\\User1\\AppData\\Local\\Packages\\PythonSoftwareFoundation.Python.3.10_qbz5n2kfra8p0\\LocalCache\\local-packages\\Python310\\site-packages\\sklearn\\metrics\\_classification.py:1344: UndefinedMetricWarning: Precision and F-score are ill-defined and being set to 0.0 in samples with no predicted labels. Use `zero_division` parameter to control this behavior.\n",
      "  _warn_prf(average, modifier, msg_start, len(result))\n",
      "C:\\Users\\User1\\AppData\\Local\\Packages\\PythonSoftwareFoundation.Python.3.10_qbz5n2kfra8p0\\LocalCache\\local-packages\\Python310\\site-packages\\sklearn\\metrics\\_classification.py:1344: UndefinedMetricWarning: Recall and F-score are ill-defined and being set to 0.0 in samples with no true labels. Use `zero_division` parameter to control this behavior.\n",
      "  _warn_prf(average, modifier, msg_start, len(result))\n"
     ]
    }
   ],
   "source": [
    "confusion_matrix_= multilabel_confusion_matrix(y_test_set, y_pred_set)\n",
    "cls_report = classification_report(y_test_set, y_pred_set)\n",
    "f1 = f1_score(y_test_set, y_pred_set, average = \"micro\")"
   ]
  },
  {
   "cell_type": "code",
   "execution_count": 30,
   "metadata": {},
   "outputs": [
    {
     "name": "stdout",
     "output_type": "stream",
     "text": [
      "              precision    recall  f1-score   support\n",
      "\n",
      "           0       0.80      0.88      0.83        40\n",
      "           1       0.71      0.82      0.76        93\n",
      "           2       0.91      0.88      0.89        91\n",
      "           3       0.92      0.68      0.78        71\n",
      "           4       0.83      0.59      0.69        17\n",
      "           5       0.71      0.76      0.74        46\n",
      "           6       1.00      0.33      0.50         6\n",
      "           7       0.00      0.00      0.00         2\n",
      "           8       0.89      0.67      0.77        83\n",
      "           9       0.75      0.89      0.81        27\n",
      "          10       0.43      0.29      0.35        31\n",
      "          11       1.00      0.40      0.57         5\n",
      "          12       0.91      0.59      0.71        51\n",
      "          13       1.00      0.17      0.29         6\n",
      "          14       0.71      0.56      0.63         9\n",
      "          15       0.00      0.00      0.00         1\n",
      "          16       1.00      0.67      0.80         3\n",
      "          17       0.75      0.75      0.75         4\n",
      "          18       1.00      0.08      0.15        12\n",
      "          19       0.00      0.00      0.00         1\n",
      "          20       1.00      0.25      0.40        16\n",
      "          21       1.00      0.62      0.77         8\n",
      "          22       0.00      0.00      0.00         1\n",
      "          23       1.00      0.75      0.86         4\n",
      "\n",
      "   micro avg       0.81      0.69      0.74       628\n",
      "   macro avg       0.72      0.48      0.54       628\n",
      "weighted avg       0.82      0.69      0.73       628\n",
      " samples avg       0.72      0.63      0.65       628\n",
      "\n"
     ]
    }
   ],
   "source": [
    "print(cls_report)"
   ]
  },
  {
   "cell_type": "code",
   "execution_count": 31,
   "metadata": {},
   "outputs": [
    {
     "name": "stdout",
     "output_type": "stream",
     "text": [
      "0.743103448275862\n"
     ]
    }
   ],
   "source": [
    "print(f1)"
   ]
  }
 ],
 "metadata": {
  "kernelspec": {
   "display_name": "Python 3.9.16 ('text_classification_env')",
   "language": "python",
   "name": "python3"
  },
  "language_info": {
   "codemirror_mode": {
    "name": "ipython",
    "version": 3
   },
   "file_extension": ".py",
   "mimetype": "text/x-python",
   "name": "python",
   "nbconvert_exporter": "python",
   "pygments_lexer": "ipython3",
   "version": "3.10.11"
  },
  "orig_nbformat": 4,
  "vscode": {
   "interpreter": {
    "hash": "d75608a455ac5d0f98b63bb7ec63e9d8f4bd2e6fd5ca81ae59d3f5b65385691c"
   }
  }
 },
 "nbformat": 4,
 "nbformat_minor": 2
}
